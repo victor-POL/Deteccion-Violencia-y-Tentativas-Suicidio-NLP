{
 "cells": [
  {
   "cell_type": "code",
   "execution_count": null,
   "metadata": {},
   "outputs": [],
   "source": [
    "!pip install selenium"
   ]
  },
  {
   "cell_type": "code",
   "execution_count": 9,
   "metadata": {},
   "outputs": [],
   "source": [
    "from selenium import webdriver\n",
    "from selenium.webdriver.common.by import By\n",
    "import time\n",
    "import re"
   ]
  },
  {
   "cell_type": "code",
   "execution_count": 20,
   "metadata": {},
   "outputs": [
    {
     "name": "stdout",
     "output_type": "stream",
     "text": [
      "No se encontraron botones de read more\n",
      ".... I might have overdosed. I don't feel anything. I'm scared, I don't want to die anymore. What do I do?.\n"
     ]
    }
   ],
   "source": [
    "from selenium import webdriver\n",
    "from selenium.webdriver.common.by import By\n",
    "import time\n",
    "import re\n",
    "\n",
    "def get_texto(url):\n",
    "    options = webdriver.FirefoxOptions()\n",
    "    options.add_argument('--headless')\n",
    "    driver = webdriver.Firefox(options=options)\n",
    "    driver.get(url)\n",
    "    \n",
    "    try:\n",
    "        buttons = driver.find_elements(By.XPATH, \"//button[contains(@id, '-read-more-button')]\") \n",
    "        for button in buttons:\n",
    "            if re.search(r\"-read-more-button$\", button.get_attribute(\"id\")):\n",
    "                button.click()\n",
    "                break\n",
    "    except:\n",
    "        print(\"No se encontraron botones de read more\")\n",
    "\n",
    "\n",
    "    # if(hay_read_more):\n",
    "    #     button_id = button.get_attribute(\"id\")\n",
    "    #     div_id_pattern = re.sub(r\"-read-more-button$\", \"-post-rtjson-content\", button_id)\n",
    "    #     texto = driver.find_element(By.XPATH, f\"//div[contains(@id, '{div_id_pattern}')]\").text\n",
    "\n",
    "    #caso sin boton\n",
    "    parent_div = driver.find_element(By.XPATH, \"//div[@class='text-neutral-content']\")\n",
    "    texto_element = parent_div.find_element(By.XPATH, \".//div[contains(@id, '-post-rtjson-content')]\")\n",
    "\n",
    "    texto = texto_element.text\n",
    "\n",
    "    driver.close()\n",
    "\n",
    "    return texto\n",
    "\n",
    "print(get_texto(\"https://www.reddit.com/r/SuicideWatch/comments/1cpk4uc/i_did_it/\"))"
   ]
  }
 ],
 "metadata": {
  "kernelspec": {
   "display_name": "Python 3",
   "language": "python",
   "name": "python3"
  },
  "language_info": {
   "codemirror_mode": {
    "name": "ipython",
    "version": 3
   },
   "file_extension": ".py",
   "mimetype": "text/x-python",
   "name": "python",
   "nbconvert_exporter": "python",
   "pygments_lexer": "ipython3",
   "version": "3.12.3"
  }
 },
 "nbformat": 4,
 "nbformat_minor": 2
}
