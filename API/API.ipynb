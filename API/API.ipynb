{
 "cells": [
  {
   "cell_type": "markdown",
   "metadata": {},
   "source": [
    "# Requisitos Previos"
   ]
  },
  {
   "cell_type": "code",
   "execution_count": null,
   "metadata": {},
   "outputs": [],
   "source": [
    "#!pip install Flask-CORS\n",
    "#!pip install neattext\n",
    "#!pip install emoji\n",
    "#!pip install scikit-learn==1.4.2 \n",
    "#!pip install selenium\n",
    "\n",
    "#!pip install joblib\n",
    "#!pip install nltk\n",
    "#!pip install Flask"
   ]
  },
  {
   "cell_type": "code",
   "execution_count": 1,
   "metadata": {},
   "outputs": [
    {
     "name": "stderr",
     "output_type": "stream",
     "text": [
      "[nltk_data] Downloading package stopwords to\n",
      "[nltk_data]     C:\\Users\\agust\\AppData\\Roaming\\nltk_data...\n",
      "[nltk_data]   Unzipping corpora\\stopwords.zip.\n",
      "[nltk_data] Downloading package punkt to\n",
      "[nltk_data]     C:\\Users\\agust\\AppData\\Roaming\\nltk_data...\n",
      "[nltk_data]   Unzipping tokenizers\\punkt.zip.\n",
      "[nltk_data] Downloading package averaged_perceptron_tagger to\n",
      "[nltk_data]     C:\\Users\\agust\\AppData\\Roaming\\nltk_data...\n",
      "[nltk_data]   Unzipping taggers\\averaged_perceptron_tagger.zip.\n",
      "[nltk_data] Downloading package wordnet to\n",
      "[nltk_data]     C:\\Users\\agust\\AppData\\Roaming\\nltk_data...\n"
     ]
    },
    {
     "data": {
      "text/plain": [
       "True"
      ]
     },
     "execution_count": 1,
     "metadata": {},
     "output_type": "execute_result"
    }
   ],
   "source": [
    "import platform\n",
    "import joblib\n",
    "import nltk\n",
    "nltk.download('stopwords')\n",
    "nltk.download('punkt')\n",
    "nltk.download('averaged_perceptron_tagger')\n",
    "nltk.download('wordnet')"
   ]
  },
  {
   "cell_type": "code",
   "execution_count": 2,
   "metadata": {},
   "outputs": [],
   "source": [
    "from flask import request, jsonify, Flask"
   ]
  },
  {
   "cell_type": "code",
   "execution_count": 3,
   "metadata": {},
   "outputs": [],
   "source": [
    "# Funcion axuiliar para saber si estoy en el collab y usar su path o el del proyecto de github\n",
    "def is_running_on_colab():\n",
    "    try:\n",
    "        import google.colab\n",
    "        return True\n",
    "    except ImportError:\n",
    "        return False\n",
    "    \n",
    "from enum import Enum\n",
    "# Funcion auxiliar para luego entrenar varios modelos con una sola ejecucion\n",
    "class Modelos(Enum):\n",
    "    LOGISTIC_REGRESSION = 'logistic_regression'\n",
    "    DECISION_TREE = 'decision_tree'\n",
    "    MULTINOMIAL = 'multinomial'\n",
    "    BERNOULLI = 'bernoulli'\n",
    "    GAUSIAN = 'gausian'"
   ]
  },
  {
   "cell_type": "markdown",
   "metadata": {},
   "source": [
    "# Funcion procesador texto"
   ]
  },
  {
   "cell_type": "code",
   "execution_count": 4,
   "metadata": {},
   "outputs": [],
   "source": [
    "import neattext.functions as nfx\n",
    "from nltk import pos_tag, word_tokenize\n",
    "from nltk.stem import WordNetLemmatizer\n",
    "from nltk.corpus import stopwords\n",
    "from string import punctuation\n",
    "import emoji\n",
    "\n",
    "wnl = WordNetLemmatizer()\n",
    "\n",
    "def penn2morphy(penntag):\n",
    "    \"\"\" Converts Penn Treebank tags to WordNet. \"\"\"\n",
    "    morphy_tag = {'NN':'n', 'JJ':'a',\n",
    "                  'VB':'v', 'RB':'r'}\n",
    "    try:\n",
    "        return morphy_tag[penntag[:2]]\n",
    "    except:\n",
    "        return 'n'\n",
    "\n",
    "\n",
    "stopwords_en = stopwords.words('english')\n",
    "stopwords_en = set(stopwords_en).union(set(punctuation))\n",
    "\n",
    "my_custom_stopwords = {'’', \"n't\", \"'m\", \"'s\", \"'ve\", '...', 'ca', \"''\", '``', '\\u200d', 'im', 'na', \"'ll\", '..', 'u', \"'re\", \"'d\", '--', '”', '“', '\\u200f\\u200f\\u200e', '....', 'ㅤ','\\u200e\\u200f\\u200f\\u200e', 'x200b', 'ive', '.-', '\\u200e', '‘'}\n",
    "\n",
    "stopwords_en = stopwords_en.union(my_custom_stopwords)\n",
    "\n",
    "\n",
    "def preprocessing_function(text):\n",
    "    words = []\n",
    "\n",
    "    for word, tag in pos_tag(word_tokenize(nfx.clean_text(text))):\n",
    "        word_lemmatized = wnl.lemmatize(word.lower(), pos=penn2morphy(tag))\n",
    "\n",
    "        if '\\u200b' in word_lemmatized:\n",
    "            continue\n",
    "\n",
    "        if word_lemmatized not in stopwords_en and not word_lemmatized.isdigit() and not emoji.purely_emoji(word_lemmatized):\n",
    "            words.append(word_lemmatized)\n",
    "\n",
    "    return words"
   ]
  },
  {
   "cell_type": "markdown",
   "metadata": {},
   "source": [
    "# Carga modelo entrenado SUICIDIO"
   ]
  },
  {
   "cell_type": "code",
   "execution_count": 5,
   "metadata": {},
   "outputs": [
    {
     "name": "stdout",
     "output_type": "stream",
     "text": [
      "<class 'sklearn.linear_model._logistic.LogisticRegression'>\n",
      "<class 'sklearn.feature_extraction.text.CountVectorizer'>\n"
     ]
    }
   ],
   "source": [
    "# MODIFICAR ESTOS PARAMETROS PARA LA CARGA\n",
    "# --------------------------------------------------------\n",
    "nombre_modelo_prev_entrenado = Modelos.LOGISTIC_REGRESSION.value\n",
    "# usar formato '25k' para 25.000 filas ejemplo\n",
    "cant_prev_entrenada = '50k'\n",
    "\n",
    "path_base_modelo_generado = '/content/' if is_running_on_colab() else ('../tentativa_suicidio/entrenados/' if platform.system() == 'Linux' else '..\\\\tentativa_suicidio\\\\entrenados\\\\')\n",
    "path_modelo_generado = path_base_modelo_generado + nombre_modelo_prev_entrenado + '_' + cant_prev_entrenada\n",
    "# --------------------------------------------------------\n",
    "\n",
    "suicide_model = joblib.load(path_modelo_generado + '_model.pkl')\n",
    "suicide_vect = joblib.load(path_modelo_generado + '_vector.pkl')\n",
    "\n",
    "print(type(suicide_model))\n",
    "print(type(suicide_vect))"
   ]
  },
  {
   "cell_type": "markdown",
   "metadata": {},
   "source": [
    "# Carga modelo entrenado VIOLENCIA"
   ]
  },
  {
   "cell_type": "code",
   "execution_count": 6,
   "metadata": {},
   "outputs": [
    {
     "name": "stdout",
     "output_type": "stream",
     "text": [
      "<class 'sklearn.linear_model._logistic.LogisticRegression'>\n",
      "<class 'sklearn.feature_extraction.text.CountVectorizer'>\n"
     ]
    }
   ],
   "source": [
    "# MODIFICAR ESTOS PARAMETROS PARA LA CARGA\n",
    "# --------------------------------------------------------\n",
    "nombre_modelo_prev_entrenado = Modelos.LOGISTIC_REGRESSION.value\n",
    "# usar formato '25k' para 25.000 filas ejemplo\n",
    "cant_prev_entrenada = '50k'\n",
    "\n",
    "path_base_modelo_generado = '/content/' if is_running_on_colab() else ('../violencia/entrenados/' if platform.system() == 'Linux' else '..\\\\violencia\\\\entrenados\\\\')\n",
    "path_modelo_generado = path_base_modelo_generado + nombre_modelo_prev_entrenado + '_' + cant_prev_entrenada\n",
    "# --------------------------------------------------------\n",
    "\n",
    "violence_model = joblib.load(path_modelo_generado + '_model.pkl')\n",
    "violence_vect = joblib.load(path_modelo_generado + '_vector.pkl')\n",
    "\n",
    "print(type(violence_model))\n",
    "print(type(violence_vect))"
   ]
  },
  {
   "cell_type": "markdown",
   "metadata": {},
   "source": [
    "# Funcion predict SUICIDIO"
   ]
  },
  {
   "cell_type": "code",
   "execution_count": 7,
   "metadata": {},
   "outputs": [],
   "source": [
    "# translator = Translator()\n",
    "\n",
    "def get_tentativa_suicidio(text_input, english_text=False):\n",
    "    texto_a_analizar = text_input #if english_text else translator.translate(text_input, dest='en').text\n",
    "        \n",
    "    texto_preprocesado = ' '.join(preprocessing_function(texto_a_analizar))\n",
    "    texto_vectorizado = suicide_vect.transform([texto_preprocesado])\n",
    "\n",
    "    return bool(suicide_model.predict(texto_vectorizado)[0])"
   ]
  },
  {
   "cell_type": "markdown",
   "metadata": {},
   "source": [
    "# Funcion predict VIOLENCIA"
   ]
  },
  {
   "cell_type": "code",
   "execution_count": 8,
   "metadata": {},
   "outputs": [],
   "source": [
    "# translator = Translator()\n",
    "\n",
    "def get_texto_con_violencia(text_input, english_text=False):\n",
    "    texto_a_analizar = text_input #if english_text else translator.translate(text_input, dest='en').text\n",
    "        \n",
    "    texto_preprocesado = ' '.join(preprocessing_function(texto_a_analizar))\n",
    "    texto_vectorizado = violence_vect.transform([texto_preprocesado])\n",
    "\n",
    "    return bool(violence_model.predict(texto_vectorizado)[0])"
   ]
  },
  {
   "cell_type": "markdown",
   "metadata": {},
   "source": [
    "# Funcion obtener texto de url"
   ]
  },
  {
   "cell_type": "code",
   "execution_count": 9,
   "metadata": {},
   "outputs": [],
   "source": [
    "from selenium import webdriver\n",
    "from selenium.webdriver.common.by import By\n",
    "import time\n",
    "import re\n",
    "\n",
    "def get_texto(url):\n",
    "    options = webdriver.FirefoxOptions()\n",
    "    options.add_argument('--headless')\n",
    "    driver = webdriver.Firefox(options=options)\n",
    "    driver.get(url)\n",
    "\n",
    "    texto = \"\"\n",
    "    hay_read_more = False\n",
    "    time.sleep(1)\n",
    "\n",
    "    try:\n",
    "        buttons = driver.find_elements(By.XPATH, \"//button[contains(@id, '-read-more-button')]\") \n",
    "        for button in buttons:\n",
    "            if re.search(r\"-read-more-button$\", button.get_attribute(\"id\")):\n",
    "                if button.is_displayed():\n",
    "                    hay_read_more = True\n",
    "                    button.click()\n",
    "                    break\n",
    "        if(hay_read_more):\n",
    "            button_id = button.get_attribute(\"id\")\n",
    "            div_id_pattern = re.sub(r\"-read-more-button$\", \"-post-rtjson-content\", button_id)\n",
    "            texto_element = driver.find_element(By.XPATH, f\"//div[contains(@id, '{div_id_pattern}')]\")\n",
    "        else:\n",
    "            parent_div = driver.find_element(By.XPATH, \"//div[@class='text-neutral-content']\")\n",
    "            texto_element = parent_div.find_element(By.XPATH, \".//div[contains(@id, '-post-rtjson-content')]\")\n",
    "            \n",
    "        texto = texto_element.text\n",
    "    finally:\n",
    "        driver.close()\n",
    "\n",
    "\n",
    "    return texto"
   ]
  },
  {
   "cell_type": "markdown",
   "metadata": {},
   "source": [
    "# Funcion para traduccion"
   ]
  },
  {
   "cell_type": "code",
   "execution_count": 12,
   "metadata": {},
   "outputs": [],
   "source": [
    "from deep_translator import GoogleTranslator\n",
    "\n",
    "def translatedSentence(text):\n",
    "    return GoogleTranslator(source='auto', target='en').translate(text=text)"
   ]
  },
  {
   "cell_type": "markdown",
   "metadata": {},
   "source": [
    "# API"
   ]
  },
  {
   "cell_type": "code",
   "execution_count": 13,
   "metadata": {},
   "outputs": [
    {
     "name": "stdout",
     "output_type": "stream",
     "text": [
      " * Serving Flask app '__main__'\n",
      " * Debug mode: off\n"
     ]
    },
    {
     "name": "stderr",
     "output_type": "stream",
     "text": [
      "WARNING: This is a development server. Do not use it in a production deployment. Use a production WSGI server instead.\n",
      " * Running on http://127.0.0.1:5000\n",
      "Press CTRL+C to quit\n",
      "127.0.0.1 - - [23/May/2024 19:20:53] \"OPTIONS /text_prediction HTTP/1.1\" 200 -\n"
     ]
    },
    {
     "name": "stdout",
     "output_type": "stream",
     "text": [
      "Texto recibido: 'hola'\n"
     ]
    },
    {
     "name": "stderr",
     "output_type": "stream",
     "text": [
      "127.0.0.1 - - [23/May/2024 19:20:54] \"POST /text_prediction HTTP/1.1\" 200 -\n"
     ]
    },
    {
     "name": "stdout",
     "output_type": "stream",
     "text": [
      "Resultado: '{'prediction_suicidio': False, 'prediction_violencia': False}'\n"
     ]
    },
    {
     "name": "stderr",
     "output_type": "stream",
     "text": [
      "127.0.0.1 - - [23/May/2024 19:22:01] \"OPTIONS /text_prediction HTTP/1.1\" 200 -\n"
     ]
    },
    {
     "name": "stdout",
     "output_type": "stream",
     "text": [
      "Texto recibido: 'I've already decided that I want to kill myself. I'm probably gonna do it tomorrow, after my prom. 558 / 5,000 Ya he decidido que quiero suicidarme. Probablemente lo haré mañana, después de mi fiesta de graduación. Pero es muy difícil procesar todo. Tuve mi examen de conducir hoy y no me importó si reprobé porque sabía que no importa. Me dije a mí mismo: \"De todos modos voy a morir pronto, así que es lo que sea\". Sin embargo, hace unas horas, jugué con mi gato probablemente por última vez y eso cambió un poco mi forma de pensar. No quiero dejar solo a mi bebé, me extrañará mucho. ¿Cómo puedo desapegarme de todo? Tengo tantas ganas de terminar con todo. Por favor dame consejos.'\n"
     ]
    },
    {
     "name": "stderr",
     "output_type": "stream",
     "text": [
      "127.0.0.1 - - [23/May/2024 19:22:09] \"POST /text_prediction HTTP/1.1\" 200 -\n"
     ]
    },
    {
     "name": "stdout",
     "output_type": "stream",
     "text": [
      "Resultado: '{'prediction_suicidio': True, 'prediction_violencia': False}'\n"
     ]
    },
    {
     "name": "stderr",
     "output_type": "stream",
     "text": [
      "127.0.0.1 - - [23/May/2024 19:22:21] \"OPTIONS /url_prediction HTTP/1.1\" 200 -\n"
     ]
    },
    {
     "name": "stdout",
     "output_type": "stream",
     "text": [
      "URL Recibida: 'https://www.reddit.com/r/SuicideWatch/comments/1cyzue7/its_too_hard_to_say_goodbye/'\n",
      "Texto obtenido: 'I've already decided that I want to kill myself. I'm probably gonna do it tomorrow, after my prom. But it's so difficult to actually process everything. I had my driving exam today and I didn't care when I failed because I knew it doesn't matter. I told myself, \"I'm gonna die soon anyway so it's whatever\". However, a few hours ago, I played with my cat for probably the last time and it kinda changed my mindset. I don't wanna leave my baby alone, he'll miss me so much. How can I unattach from everything? I wanna end it all so bad. Please give me advice.'\n"
     ]
    },
    {
     "name": "stderr",
     "output_type": "stream",
     "text": [
      "127.0.0.1 - - [23/May/2024 19:22:34] \"POST /url_prediction HTTP/1.1\" 200 -\n"
     ]
    },
    {
     "name": "stdout",
     "output_type": "stream",
     "text": [
      "Resultado: '{'prediction_suicidio': True, 'prediction_violencia': False}'\n"
     ]
    },
    {
     "name": "stderr",
     "output_type": "stream",
     "text": [
      "127.0.0.1 - - [23/May/2024 19:23:06] \"OPTIONS /text_prediction HTTP/1.1\" 200 -\n"
     ]
    },
    {
     "name": "stdout",
     "output_type": "stream",
     "text": [
      "Texto recibido: 'Ya he decidido que quiero suicidarme. Probablemente lo haré mañana, después de mi fiesta de graduación. Pero es muy difícil procesar todo. Tuve mi examen de conducir hoy y no me importó si reprobé porque sabía que no importa. Me dije a mí mismo: \"De todos modos voy a morir pronto, así que es lo que sea\". Sin embargo, hace unas horas, jugué con mi gato probablemente por última vez y eso cambió un poco mi forma de pensar. No quiero dejar solo a mi bebé, me extrañará mucho. ¿Cómo puedo desapegarme de todo? Tengo tantas ganas de terminar con todo. Por favor dame consejos.'\n"
     ]
    },
    {
     "name": "stderr",
     "output_type": "stream",
     "text": [
      "127.0.0.1 - - [23/May/2024 19:23:12] \"POST /text_prediction HTTP/1.1\" 200 -\n"
     ]
    },
    {
     "name": "stdout",
     "output_type": "stream",
     "text": [
      "Resultado: '{'prediction_suicidio': True, 'prediction_violencia': False}'\n"
     ]
    },
    {
     "name": "stderr",
     "output_type": "stream",
     "text": [
      "127.0.0.1 - - [23/May/2024 19:24:29] \"OPTIONS /text_prediction HTTP/1.1\" 200 -\n"
     ]
    },
    {
     "name": "stdout",
     "output_type": "stream",
     "text": [
      "Texto recibido: 'Uno de mis gerentes me dio permiso para hacer algo y luego regresó varios meses después para escribirme. Al parecer iba en contra de la política de la empresa, y cuando intenté defenderme simplemente me interrumpieron diciendo \"eso no es lo que pasó\". Pero sé que es porque fui muy específico cuando pedí una aclaración sobre lo que se me permitía hacer. También dijeron que este había sido un problema del que me habían hablado constantemente durante 1 o 2 años, lo cual es descaradamente falso. Los odié desde entonces y estoy harto de ir a trabajar y verlos casi todos los días.  Lo único que me mantiene aquí es que la empresa me ayudará con cosas para la escuela, como la matrícula. También podría transferirme a otro puesto aquí al final del verano. Intento aguantar hasta entonces, pero estoy harto de esto.  ¿Se supone que debo preocuparme de que la gerencia vuelva a mentir sobre mí durante al menos unos meses más? ¿Quizás más si no consigo el trabajo? ¿Se supone que debo lidiar con esto todos los días? Este ni siquiera es el único problema, es el que más me molesta. ¿Y se supone que debo lidiar con esto?'\n"
     ]
    },
    {
     "name": "stderr",
     "output_type": "stream",
     "text": [
      "127.0.0.1 - - [23/May/2024 19:24:36] \"OPTIONS /text_prediction HTTP/1.1\" 200 -\n"
     ]
    },
    {
     "name": "stdout",
     "output_type": "stream",
     "text": [
      "Texto recibido: 'Uno de mis gerentes me dio permiso para hacer algo y luego regresó varios meses después para escribirme. Al parecer iba en contra de la política de la empresa, y cuando intenté defenderme simplemente me interrumpieron diciendo \"eso no es lo que pasó\". Pero sé que es porque fui muy específico cuando pedí una aclaración sobre lo que se me permitía hacer. También dijeron que este había sido un problema del que me habían hablado constantemente durante 1 o 2 años, lo cual es descaradamente falso. Los odié desde entonces y estoy harto de ir a trabajar y verlos casi todos los días.\n",
      "  \n",
      "    Lo único que me mantiene aquí es que la empresa me ayudará con cosas para la escuela, como la matrícula. También podría transferirme a otro puesto aquí al final del verano. Intento aguantar hasta entonces, pero estoy harto de esto.\n",
      "  \n",
      "    ¿Se supone que debo preocuparme de que la gerencia vuelva a mentir sobre mí durante al menos unos meses más? ¿Quizás más si no consigo el trabajo? ¿Se supone que debo lidiar con esto todos los días? Este ni siquiera es el único problema, es el que más me molesta. ¿Y se supone que debo lidiar con esto?'\n"
     ]
    },
    {
     "name": "stderr",
     "output_type": "stream",
     "text": [
      "127.0.0.1 - - [23/May/2024 19:24:36] \"OPTIONS /url_prediction HTTP/1.1\" 200 -\n"
     ]
    },
    {
     "name": "stdout",
     "output_type": "stream",
     "text": [
      "URL Recibida: 'https://www.reddit.com/r/hatemyjob/comments/1cxlo7i/management_lied_about_me_to_save_their_own_ass/'\n"
     ]
    },
    {
     "name": "stderr",
     "output_type": "stream",
     "text": [
      "127.0.0.1 - - [23/May/2024 19:24:37] \"POST /text_prediction HTTP/1.1\" 200 -\n"
     ]
    },
    {
     "name": "stdout",
     "output_type": "stream",
     "text": [
      "Resultado: '{'prediction_suicidio': True, 'prediction_violencia': False}'\n"
     ]
    },
    {
     "name": "stderr",
     "output_type": "stream",
     "text": [
      "127.0.0.1 - - [23/May/2024 19:24:43] \"POST /text_prediction HTTP/1.1\" 200 -\n"
     ]
    },
    {
     "name": "stdout",
     "output_type": "stream",
     "text": [
      "Resultado: '{'prediction_suicidio': True, 'prediction_violencia': False}'\n",
      "Texto obtenido: 'One of my managers gave me permission to do something, then came back several months later to write me up for it. Apparently it was against company policy, and when I tried to defend myself they just cut me off saying \"that's not what happened.\" But I know it is because I was very specific when I asked for clarification on what I was allowed to do. They also said this had been an issue I was constantly talked to about for 1-2 years, which is blatantly untrue. I have hated them ever since and I am so sick of coming into work and seeing them almost every single day.\n",
      "The only thing keeping me here is the company will help me with stuff for school, like tuition. I also might be able to transfer to another position here at the end of the summer. I'm trying to hold on until then but I am so sick of this.\n",
      "Am I supposed to just worry about management lying about me again for at least a few more months? Maybe longer if I don't get the job? I'm just supposed to deal with this every single day? This isn't even the only problem, it's just the one that bothers me the most. And I'm just supposed to deal with this?'\n"
     ]
    },
    {
     "name": "stderr",
     "output_type": "stream",
     "text": [
      "127.0.0.1 - - [23/May/2024 19:24:49] \"POST /url_prediction HTTP/1.1\" 200 -\n"
     ]
    },
    {
     "name": "stdout",
     "output_type": "stream",
     "text": [
      "Resultado: '{'prediction_suicidio': True, 'prediction_violencia': False}'\n"
     ]
    },
    {
     "name": "stderr",
     "output_type": "stream",
     "text": [
      "127.0.0.1 - - [23/May/2024 19:27:07] \"OPTIONS /text_prediction HTTP/1.1\" 200 -\n"
     ]
    },
    {
     "name": "stdout",
     "output_type": "stream",
     "text": [
      "Texto recibido: 'sock puppet i do not know whether you have noticed it but based on behavior and contributions made to connaught rangers national army ireland and military related articles it appears that is a sock puppet of who is blocked indefinitely for sock puppetry just wondering what to do about this'\n"
     ]
    },
    {
     "name": "stderr",
     "output_type": "stream",
     "text": [
      "127.0.0.1 - - [23/May/2024 19:27:07] \"POST /text_prediction HTTP/1.1\" 200 -\n"
     ]
    },
    {
     "name": "stdout",
     "output_type": "stream",
     "text": [
      "Resultado: '{'prediction_suicidio': False, 'prediction_violencia': False}'\n"
     ]
    },
    {
     "name": "stderr",
     "output_type": "stream",
     "text": [
      "127.0.0.1 - - [23/May/2024 19:27:24] \"OPTIONS /text_prediction HTTP/1.1\" 200 -\n"
     ]
    },
    {
     "name": "stdout",
     "output_type": "stream",
     "text": [
      "Texto recibido: 'well why do not you stop treating me like garbage and ill be nice'\n"
     ]
    },
    {
     "name": "stderr",
     "output_type": "stream",
     "text": [
      "127.0.0.1 - - [23/May/2024 19:27:25] \"POST /text_prediction HTTP/1.1\" 200 -\n"
     ]
    },
    {
     "name": "stdout",
     "output_type": "stream",
     "text": [
      "Resultado: '{'prediction_suicidio': False, 'prediction_violencia': False}'\n"
     ]
    },
    {
     "name": "stderr",
     "output_type": "stream",
     "text": [
      "127.0.0.1 - - [23/May/2024 19:27:41] \"OPTIONS /text_prediction HTTP/1.1\" 200 -\n"
     ]
    },
    {
     "name": "stdout",
     "output_type": "stream",
     "text": [
      "Texto recibido: 'it s the husband s job to teach and educate his wife too and that must be done even not getting married even want to turn a girl from a long term relationship make sure she already realized how it was cool p k a is it means cool a k sign of god'\n"
     ]
    },
    {
     "name": "stderr",
     "output_type": "stream",
     "text": [
      "127.0.0.1 - - [23/May/2024 19:27:41] \"POST /text_prediction HTTP/1.1\" 200 -\n"
     ]
    },
    {
     "name": "stdout",
     "output_type": "stream",
     "text": [
      "Resultado: '{'prediction_suicidio': False, 'prediction_violencia': False}'\n",
      "Texto recibido: 'it s the husband s job to teach and educate his wife too and that must be done even not getting married even want to turn a girl from a long term relationship make sure she already realized how it was cool p k a is it means cool a k sign of god'\n"
     ]
    },
    {
     "name": "stderr",
     "output_type": "stream",
     "text": [
      "127.0.0.1 - - [23/May/2024 19:27:43] \"POST /text_prediction HTTP/1.1\" 200 -\n"
     ]
    },
    {
     "name": "stdout",
     "output_type": "stream",
     "text": [
      "Resultado: '{'prediction_suicidio': False, 'prediction_violencia': False}'\n",
      "Texto recibido: 'it s the husband s job to teach and educate his wife too and that must be done even not getting married even want to turn a girl from a long term relationship make sure she already realized how it was cool p k a is it means cool a k sign of god'\n"
     ]
    },
    {
     "name": "stderr",
     "output_type": "stream",
     "text": [
      "127.0.0.1 - - [23/May/2024 19:27:44] \"POST /text_prediction HTTP/1.1\" 200 -\n"
     ]
    },
    {
     "name": "stdout",
     "output_type": "stream",
     "text": [
      "Resultado: '{'prediction_suicidio': False, 'prediction_violencia': False}'\n",
      "Texto recibido: 'it s the husband s job to teach and educate his wife too and that must be done even not getting married even want to turn a girl from a long term relationship make sure she already realized how it was cool p k a is it means cool a k sign of god'\n"
     ]
    },
    {
     "name": "stderr",
     "output_type": "stream",
     "text": [
      "127.0.0.1 - - [23/May/2024 19:27:46] \"POST /text_prediction HTTP/1.1\" 200 -\n"
     ]
    },
    {
     "name": "stdout",
     "output_type": "stream",
     "text": [
      "Resultado: '{'prediction_suicidio': False, 'prediction_violencia': False}'\n"
     ]
    },
    {
     "name": "stderr",
     "output_type": "stream",
     "text": [
      "127.0.0.1 - - [23/May/2024 19:27:48] \"OPTIONS /text_prediction HTTP/1.1\" 200 -\n"
     ]
    },
    {
     "name": "stdout",
     "output_type": "stream",
     "text": [
      "Texto recibido: 'it s the husband s job to teach and educate his wife too and that must be done even not getting married even want to turn a girl from a long term relationship make sure she already realized how it was cool p k a is it means cool a k sign of god'\n"
     ]
    },
    {
     "name": "stderr",
     "output_type": "stream",
     "text": [
      "127.0.0.1 - - [23/May/2024 19:27:48] \"POST /text_prediction HTTP/1.1\" 200 -\n"
     ]
    },
    {
     "name": "stdout",
     "output_type": "stream",
     "text": [
      "Resultado: '{'prediction_suicidio': False, 'prediction_violencia': False}'\n"
     ]
    },
    {
     "name": "stderr",
     "output_type": "stream",
     "text": [
      "127.0.0.1 - - [23/May/2024 19:27:56] \"OPTIONS /text_prediction HTTP/1.1\" 200 -\n"
     ]
    },
    {
     "name": "stdout",
     "output_type": "stream",
     "text": [
      "Texto recibido: 'it amazes me how every young woman even eighteen who live in squalor like that somehow owns martini glasses without fail and when you go to make drinks and where always martini glasses and every time she bitches about how her weird boyfriend always cooked for her you can point out the pile of crusty dishes in the kitchen and tell her you should cook if anybody helps you wash them like she never does you will never have to cook three drinks later and after some fun you are always at your clean place taking a shower and eating leftovers'\n"
     ]
    },
    {
     "name": "stderr",
     "output_type": "stream",
     "text": [
      "127.0.0.1 - - [23/May/2024 19:27:57] \"POST /text_prediction HTTP/1.1\" 200 -\n"
     ]
    },
    {
     "name": "stdout",
     "output_type": "stream",
     "text": [
      "Resultado: '{'prediction_suicidio': False, 'prediction_violencia': False}'\n"
     ]
    },
    {
     "name": "stderr",
     "output_type": "stream",
     "text": [
      "127.0.0.1 - - [23/May/2024 19:28:02] \"OPTIONS /text_prediction HTTP/1.1\" 200 -\n"
     ]
    },
    {
     "name": "stdout",
     "output_type": "stream",
     "text": [
      "Texto recibido: 'it amazes me how every young woman even eighteen who live in squalor like that somehow owns martini glasses without fail and when you go to make drinks and where always martini glasses and every time she bitches about how her weird boyfriend always cooked for her you can point out the pile of crusty dishes in the kitchen and tell her you should cook if anybody helps you wash them like she never does you will never have to cook three drinks later and after some fun you are always at your clean place taking a shower and eating leftovers'\n"
     ]
    },
    {
     "name": "stderr",
     "output_type": "stream",
     "text": [
      "127.0.0.1 - - [23/May/2024 19:28:03] \"POST /text_prediction HTTP/1.1\" 200 -\n"
     ]
    },
    {
     "name": "stdout",
     "output_type": "stream",
     "text": [
      "Resultado: '{'prediction_suicidio': False, 'prediction_violencia': False}'\n"
     ]
    },
    {
     "name": "stderr",
     "output_type": "stream",
     "text": [
      "127.0.0.1 - - [23/May/2024 19:28:15] \"OPTIONS /text_prediction HTTP/1.1\" 200 -\n"
     ]
    },
    {
     "name": "stdout",
     "output_type": "stream",
     "text": [
      "Texto recibido: 'this is kind of embarrassing but my sister is and a virgin she likes a boy and wants to lose her virginity she has asking me for advice on how to move things forward with this guy and i am confused about it because helium have black so it would represent ill timed and sick am i being weird here how can i advise my baby astir finding a white boy'\n"
     ]
    },
    {
     "name": "stderr",
     "output_type": "stream",
     "text": [
      "127.0.0.1 - - [23/May/2024 19:28:15] \"POST /text_prediction HTTP/1.1\" 200 -\n"
     ]
    },
    {
     "name": "stdout",
     "output_type": "stream",
     "text": [
      "Resultado: '{'prediction_suicidio': False, 'prediction_violencia': True}'\n",
      "Texto recibido: 'this is kind of embarrassing but my sister is and a virgin she likes a boy and wants to lose her virginity she has asking me for advice on how to move things forward with this guy and i am confused about it because helium have black so it would represent ill timed and sick am i being weird here how can i advise my baby astir finding a white boy'\n"
     ]
    },
    {
     "name": "stderr",
     "output_type": "stream",
     "text": [
      "127.0.0.1 - - [23/May/2024 19:28:18] \"POST /text_prediction HTTP/1.1\" 200 -\n"
     ]
    },
    {
     "name": "stdout",
     "output_type": "stream",
     "text": [
      "Resultado: '{'prediction_suicidio': False, 'prediction_violencia': True}'\n"
     ]
    },
    {
     "name": "stderr",
     "output_type": "stream",
     "text": [
      "127.0.0.1 - - [23/May/2024 19:28:28] \"OPTIONS /text_prediction HTTP/1.1\" 200 -\n"
     ]
    },
    {
     "name": "stdout",
     "output_type": "stream",
     "text": [
      "Texto recibido: 'he always spoke absolute truths straight to her and she what a slut just started looking at at her phone with that dead fucking face and never laughed i am unsure about why he wasted his time he is not going to recondition her from societies gossip lies in fifteen minutes it ever women we are so goddamn stupid how to be honest'\n"
     ]
    },
    {
     "name": "stderr",
     "output_type": "stream",
     "text": [
      "127.0.0.1 - - [23/May/2024 19:28:28] \"POST /text_prediction HTTP/1.1\" 200 -\n"
     ]
    },
    {
     "name": "stdout",
     "output_type": "stream",
     "text": [
      "Resultado: '{'prediction_suicidio': True, 'prediction_violencia': True}'\n"
     ]
    },
    {
     "name": "stderr",
     "output_type": "stream",
     "text": [
      "127.0.0.1 - - [23/May/2024 19:29:16] \"OPTIONS /text_prediction HTTP/1.1\" 200 -\n"
     ]
    },
    {
     "name": "stdout",
     "output_type": "stream",
     "text": [
      "Texto recibido: 'él siempre le decía verdades absolutas directamente y ella, qué puta, simplemente comenzó a mirar su teléfono con esa cara de puta muerta y nunca se rió. No estoy seguro de por qué perdió el tiempo, no la va a reacondicionar de los chismes de la sociedad, mentiras en quince. minutos, alguna vez mujeres, somos tan estúpidos como ser honestos'\n"
     ]
    },
    {
     "name": "stderr",
     "output_type": "stream",
     "text": [
      "127.0.0.1 - - [23/May/2024 19:29:18] \"POST /text_prediction HTTP/1.1\" 200 -\n"
     ]
    },
    {
     "name": "stdout",
     "output_type": "stream",
     "text": [
      "Resultado: '{'prediction_suicidio': False, 'prediction_violencia': True}'\n"
     ]
    }
   ],
   "source": [
    "from flask_cors import CORS\n",
    "\n",
    "app = Flask(__name__)\n",
    "\n",
    "CORS(app)\n",
    "\n",
    "@app.route(\"/\")\n",
    "def home():\n",
    "    return \"<p>API para predecir tentativas de suicidio en textos.</p>\"\n",
    "\n",
    "@app.route('/test', methods=['GET'])\n",
    "def test():\n",
    "    return jsonify({\"message\": \"Funciona\"})\n",
    "\n",
    "\n",
    "@app.route('/text_prediction', methods=['GET'])\n",
    "def procesar_texto_get():\n",
    "    texto = request.args.get('text')\n",
    "    if texto:\n",
    "        print(f\"Texto recibido: '{texto}'\")\n",
    "        texto = texto.strip()\n",
    "        if(texto.isspace() or texto == \"\"):\n",
    "            return jsonify({\"error\": \"No se pudo procesar el texto ya que esta vacío\"})\n",
    "        \n",
    "        prediction_suicidio = get_tentativa_suicidio(texto)\n",
    "        prediction_violencia = get_texto_con_violencia(texto)\n",
    "\n",
    "        result = {\"prediction_suicidio\": prediction_suicidio, \"prediction_violencia\": prediction_violencia}\n",
    "\n",
    "        print(f\"Resultado: '{result}'\")\n",
    "        return jsonify(result)\n",
    "    else:\n",
    "        return jsonify({\"error\": \"No se proporció un texto en la solicitud\"})\n",
    "    \n",
    "@app.route(\"/text_prediction\", methods=[\"POST\"])\n",
    "def procesar_texto_post():\n",
    "    data = request.json\n",
    "    texto = data.get(\"texto\")\n",
    "    if texto:\n",
    "        print(f\"Texto recibido: '{texto}'\")\n",
    "        texto = texto.strip()\n",
    "        if(texto.isspace() or texto == \"\"):\n",
    "            return jsonify({\"error\": \"No se pudo procesar el texto ya que esta vacío\"})\n",
    "        \n",
    "        texto_eng=translatedSentence(texto)\n",
    "        prediction_suicidio = get_tentativa_suicidio(texto_eng)\n",
    "        prediction_violencia = get_texto_con_violencia(texto_eng)\n",
    "\n",
    "        result = {\"prediction_suicidio\": prediction_suicidio, \"prediction_violencia\": prediction_violencia}\n",
    "\n",
    "        print(f\"Resultado: '{result}'\")\n",
    "        return jsonify(result)\n",
    "    else:\n",
    "        return jsonify({\"error\": \"No se proporcionó un texto en la solicitud\"})\n",
    "    \n",
    "@app.route(\"/url_prediction\", methods=[\"POST\"])\n",
    "def procesar_url_post():\n",
    "    data = request.json\n",
    "    url = data.get(\"url\")\n",
    "    if url:\n",
    "        print(f\"URL Recibida: '{url}'\")\n",
    "        texto = get_texto(url)\n",
    "        print(f\"Texto obtenido: '{texto}'\")\n",
    "        \n",
    "        texto_eng=translatedSentence(texto)\n",
    "        prediction_suicidio = get_tentativa_suicidio(texto_eng)\n",
    "        prediction_violencia = get_texto_con_violencia(texto_eng)\n",
    "\n",
    "        result = {\"prediction_suicidio\": prediction_suicidio, \"prediction_violencia\": prediction_violencia}\n",
    "\n",
    "        print(f\"Resultado: '{result}'\")\n",
    "        return jsonify(result)\n",
    "    else:\n",
    "        return jsonify({\"error\": \"No se proporcionó la URL en la solicitud\"})\n",
    "\n",
    "if __name__ == '__main__':\n",
    "    app.run()"
   ]
  }
 ],
 "metadata": {
  "kernelspec": {
   "display_name": "Python 3",
   "language": "python",
   "name": "python3"
  },
  "language_info": {
   "codemirror_mode": {
    "name": "ipython",
    "version": 3
   },
   "file_extension": ".py",
   "mimetype": "text/x-python",
   "name": "python",
   "nbconvert_exporter": "python",
   "pygments_lexer": "ipython3",
   "version": "3.11.5"
  }
 },
 "nbformat": 4,
 "nbformat_minor": 2
}
