{
 "cells": [
  {
   "cell_type": "markdown",
   "metadata": {},
   "source": [
    "# Requisitos Previos"
   ]
  },
  {
   "cell_type": "code",
   "execution_count": 1,
   "metadata": {},
   "outputs": [
    {
     "name": "stdout",
     "output_type": "stream",
     "text": [
      "Requirement already satisfied: Flask-CORS in c:\\users\\victor\\appdata\\local\\programs\\python\\python312\\lib\\site-packages (4.0.1)\n",
      "Requirement already satisfied: Flask>=0.9 in c:\\users\\victor\\appdata\\local\\programs\\python\\python312\\lib\\site-packages (from Flask-CORS) (3.0.3)\n",
      "Requirement already satisfied: Werkzeug>=3.0.0 in c:\\users\\victor\\appdata\\local\\programs\\python\\python312\\lib\\site-packages (from Flask>=0.9->Flask-CORS) (3.0.3)\n",
      "Requirement already satisfied: Jinja2>=3.1.2 in c:\\users\\victor\\appdata\\local\\programs\\python\\python312\\lib\\site-packages (from Flask>=0.9->Flask-CORS) (3.1.4)\n",
      "Requirement already satisfied: itsdangerous>=2.1.2 in c:\\users\\victor\\appdata\\local\\programs\\python\\python312\\lib\\site-packages (from Flask>=0.9->Flask-CORS) (2.2.0)\n",
      "Requirement already satisfied: click>=8.1.3 in c:\\users\\victor\\appdata\\local\\programs\\python\\python312\\lib\\site-packages (from Flask>=0.9->Flask-CORS) (8.1.7)\n",
      "Requirement already satisfied: blinker>=1.6.2 in c:\\users\\victor\\appdata\\local\\programs\\python\\python312\\lib\\site-packages (from Flask>=0.9->Flask-CORS) (1.8.2)\n",
      "Requirement already satisfied: colorama in c:\\users\\victor\\appdata\\roaming\\python\\python312\\site-packages (from click>=8.1.3->Flask>=0.9->Flask-CORS) (0.4.6)\n",
      "Requirement already satisfied: MarkupSafe>=2.0 in c:\\users\\victor\\appdata\\local\\programs\\python\\python312\\lib\\site-packages (from Jinja2>=3.1.2->Flask>=0.9->Flask-CORS) (2.1.5)\n",
      "Requirement already satisfied: neattext in c:\\users\\victor\\appdata\\local\\programs\\python\\python312\\lib\\site-packages (0.1.3)\n",
      "Requirement already satisfied: emoji in c:\\users\\victor\\appdata\\local\\programs\\python\\python312\\lib\\site-packages (2.11.1)\n",
      "Requirement already satisfied: scikit-learn==1.4.2 in c:\\users\\victor\\appdata\\local\\programs\\python\\python312\\lib\\site-packages (1.4.2)\n",
      "Requirement already satisfied: numpy>=1.19.5 in c:\\users\\victor\\appdata\\local\\programs\\python\\python312\\lib\\site-packages (from scikit-learn==1.4.2) (1.26.4)\n",
      "Requirement already satisfied: scipy>=1.6.0 in c:\\users\\victor\\appdata\\local\\programs\\python\\python312\\lib\\site-packages (from scikit-learn==1.4.2) (1.13.0)\n",
      "Requirement already satisfied: joblib>=1.2.0 in c:\\users\\victor\\appdata\\local\\programs\\python\\python312\\lib\\site-packages (from scikit-learn==1.4.2) (1.4.2)\n",
      "Requirement already satisfied: threadpoolctl>=2.0.0 in c:\\users\\victor\\appdata\\local\\programs\\python\\python312\\lib\\site-packages (from scikit-learn==1.4.2) (3.5.0)\n",
      "Requirement already satisfied: selenium in c:\\users\\victor\\appdata\\local\\programs\\python\\python312\\lib\\site-packages (4.20.0)\n",
      "Requirement already satisfied: urllib3<3,>=1.26 in c:\\users\\victor\\appdata\\local\\programs\\python\\python312\\lib\\site-packages (from urllib3[socks]<3,>=1.26->selenium) (2.2.1)\n",
      "Requirement already satisfied: trio~=0.17 in c:\\users\\victor\\appdata\\local\\programs\\python\\python312\\lib\\site-packages (from selenium) (0.25.0)\n",
      "Requirement already satisfied: trio-websocket~=0.9 in c:\\users\\victor\\appdata\\local\\programs\\python\\python312\\lib\\site-packages (from selenium) (0.11.1)\n",
      "Requirement already satisfied: certifi>=2021.10.8 in c:\\users\\victor\\appdata\\local\\programs\\python\\python312\\lib\\site-packages (from selenium) (2024.2.2)\n",
      "Requirement already satisfied: typing_extensions>=4.9.0 in c:\\users\\victor\\appdata\\local\\programs\\python\\python312\\lib\\site-packages (from selenium) (4.11.0)\n",
      "Requirement already satisfied: attrs>=23.2.0 in c:\\users\\victor\\appdata\\local\\programs\\python\\python312\\lib\\site-packages (from trio~=0.17->selenium) (23.2.0)\n",
      "Requirement already satisfied: sortedcontainers in c:\\users\\victor\\appdata\\local\\programs\\python\\python312\\lib\\site-packages (from trio~=0.17->selenium) (2.4.0)\n",
      "Requirement already satisfied: idna in c:\\users\\victor\\appdata\\local\\programs\\python\\python312\\lib\\site-packages (from trio~=0.17->selenium) (2.10)\n",
      "Requirement already satisfied: outcome in c:\\users\\victor\\appdata\\local\\programs\\python\\python312\\lib\\site-packages (from trio~=0.17->selenium) (1.3.0.post0)\n",
      "Requirement already satisfied: sniffio>=1.3.0 in c:\\users\\victor\\appdata\\local\\programs\\python\\python312\\lib\\site-packages (from trio~=0.17->selenium) (1.3.1)\n",
      "Requirement already satisfied: cffi>=1.14 in c:\\users\\victor\\appdata\\local\\programs\\python\\python312\\lib\\site-packages (from trio~=0.17->selenium) (1.16.0)\n",
      "Requirement already satisfied: wsproto>=0.14 in c:\\users\\victor\\appdata\\local\\programs\\python\\python312\\lib\\site-packages (from trio-websocket~=0.9->selenium) (1.2.0)\n",
      "Requirement already satisfied: pysocks!=1.5.7,<2.0,>=1.5.6 in c:\\users\\victor\\appdata\\local\\programs\\python\\python312\\lib\\site-packages (from urllib3[socks]<3,>=1.26->selenium) (1.7.1)\n",
      "Requirement already satisfied: pycparser in c:\\users\\victor\\appdata\\local\\programs\\python\\python312\\lib\\site-packages (from cffi>=1.14->trio~=0.17->selenium) (2.22)\n",
      "Requirement already satisfied: h11<1,>=0.9.0 in c:\\users\\victor\\appdata\\local\\programs\\python\\python312\\lib\\site-packages (from wsproto>=0.14->trio-websocket~=0.9->selenium) (0.14.0)\n",
      "Requirement already satisfied: joblib in c:\\users\\victor\\appdata\\local\\programs\\python\\python312\\lib\\site-packages (1.4.2)\n",
      "Requirement already satisfied: nltk in c:\\users\\victor\\appdata\\local\\programs\\python\\python312\\lib\\site-packages (3.8.1)\n",
      "Requirement already satisfied: click in c:\\users\\victor\\appdata\\local\\programs\\python\\python312\\lib\\site-packages (from nltk) (8.1.7)\n",
      "Requirement already satisfied: joblib in c:\\users\\victor\\appdata\\local\\programs\\python\\python312\\lib\\site-packages (from nltk) (1.4.2)\n",
      "Requirement already satisfied: regex>=2021.8.3 in c:\\users\\victor\\appdata\\local\\programs\\python\\python312\\lib\\site-packages (from nltk) (2024.4.28)\n",
      "Requirement already satisfied: tqdm in c:\\users\\victor\\appdata\\local\\programs\\python\\python312\\lib\\site-packages (from nltk) (4.66.4)\n",
      "Requirement already satisfied: colorama in c:\\users\\victor\\appdata\\roaming\\python\\python312\\site-packages (from click->nltk) (0.4.6)\n",
      "Requirement already satisfied: Flask in c:\\users\\victor\\appdata\\local\\programs\\python\\python312\\lib\\site-packages (3.0.3)\n",
      "Requirement already satisfied: Werkzeug>=3.0.0 in c:\\users\\victor\\appdata\\local\\programs\\python\\python312\\lib\\site-packages (from Flask) (3.0.3)\n",
      "Requirement already satisfied: Jinja2>=3.1.2 in c:\\users\\victor\\appdata\\local\\programs\\python\\python312\\lib\\site-packages (from Flask) (3.1.4)\n",
      "Requirement already satisfied: itsdangerous>=2.1.2 in c:\\users\\victor\\appdata\\local\\programs\\python\\python312\\lib\\site-packages (from Flask) (2.2.0)\n",
      "Requirement already satisfied: click>=8.1.3 in c:\\users\\victor\\appdata\\local\\programs\\python\\python312\\lib\\site-packages (from Flask) (8.1.7)\n",
      "Requirement already satisfied: blinker>=1.6.2 in c:\\users\\victor\\appdata\\local\\programs\\python\\python312\\lib\\site-packages (from Flask) (1.8.2)\n",
      "Requirement already satisfied: colorama in c:\\users\\victor\\appdata\\roaming\\python\\python312\\site-packages (from click>=8.1.3->Flask) (0.4.6)\n",
      "Requirement already satisfied: MarkupSafe>=2.0 in c:\\users\\victor\\appdata\\local\\programs\\python\\python312\\lib\\site-packages (from Jinja2>=3.1.2->Flask) (2.1.5)\n"
     ]
    }
   ],
   "source": [
    "!pip install Flask-CORS\n",
    "!pip install neattext\n",
    "!pip install emoji\n",
    "!pip install scikit-learn==1.4.2 \n",
    "!pip install selenium\n",
    "\n",
    "!pip install joblib\n",
    "!pip install nltk\n",
    "!pip install Flask"
   ]
  },
  {
   "cell_type": "code",
   "execution_count": 2,
   "metadata": {},
   "outputs": [
    {
     "name": "stderr",
     "output_type": "stream",
     "text": [
      "[nltk_data] Downloading package stopwords to\n",
      "[nltk_data]     C:\\Users\\victor\\AppData\\Roaming\\nltk_data...\n",
      "[nltk_data]   Package stopwords is already up-to-date!\n",
      "[nltk_data] Downloading package punkt to\n",
      "[nltk_data]     C:\\Users\\victor\\AppData\\Roaming\\nltk_data...\n",
      "[nltk_data]   Package punkt is already up-to-date!\n",
      "[nltk_data] Downloading package averaged_perceptron_tagger to\n",
      "[nltk_data]     C:\\Users\\victor\\AppData\\Roaming\\nltk_data...\n",
      "[nltk_data]   Package averaged_perceptron_tagger is already up-to-\n",
      "[nltk_data]       date!\n",
      "[nltk_data] Downloading package wordnet to\n",
      "[nltk_data]     C:\\Users\\victor\\AppData\\Roaming\\nltk_data...\n",
      "[nltk_data]   Package wordnet is already up-to-date!\n"
     ]
    },
    {
     "data": {
      "text/plain": [
       "True"
      ]
     },
     "execution_count": 2,
     "metadata": {},
     "output_type": "execute_result"
    }
   ],
   "source": [
    "import platform\n",
    "import joblib\n",
    "import nltk\n",
    "nltk.download('stopwords')\n",
    "nltk.download('punkt')\n",
    "nltk.download('averaged_perceptron_tagger')\n",
    "nltk.download('wordnet')\n",
    "# from googletrans import Translator"
   ]
  },
  {
   "cell_type": "code",
   "execution_count": 3,
   "metadata": {},
   "outputs": [],
   "source": [
    "from flask import request, jsonify, Flask"
   ]
  },
  {
   "cell_type": "code",
   "execution_count": 4,
   "metadata": {},
   "outputs": [],
   "source": [
    "# Funcion axuiliar para saber si estoy en el collab y usar su path o el del proyecto de github\n",
    "def is_running_on_colab():\n",
    "    try:\n",
    "        import google.colab\n",
    "        return True\n",
    "    except ImportError:\n",
    "        return False\n",
    "    \n",
    "from enum import Enum\n",
    "# Funcion auxiliar para luego entrenar varios modelos con una sola ejecucion\n",
    "class Modelos(Enum):\n",
    "    LOGISTIC_REGRESSION = 'logistic_regression'\n",
    "    DECISION_TREE = 'decision_tree'\n",
    "    MULTINOMIAL = 'multinomial'\n",
    "    BERNOULLI = 'bernoulli'\n",
    "    GAUSIAN = 'gausian'"
   ]
  },
  {
   "cell_type": "markdown",
   "metadata": {},
   "source": [
    "# Funcion procesador texto"
   ]
  },
  {
   "cell_type": "code",
   "execution_count": 5,
   "metadata": {},
   "outputs": [],
   "source": [
    "import neattext.functions as nfx\n",
    "from nltk import pos_tag, word_tokenize\n",
    "from nltk.stem import WordNetLemmatizer\n",
    "from nltk.corpus import stopwords\n",
    "from string import punctuation\n",
    "import emoji\n",
    "\n",
    "wnl = WordNetLemmatizer()\n",
    "\n",
    "def penn2morphy(penntag):\n",
    "    \"\"\" Converts Penn Treebank tags to WordNet. \"\"\"\n",
    "    morphy_tag = {'NN':'n', 'JJ':'a',\n",
    "                  'VB':'v', 'RB':'r'}\n",
    "    try:\n",
    "        return morphy_tag[penntag[:2]]\n",
    "    except:\n",
    "        return 'n'\n",
    "\n",
    "\n",
    "stopwords_en = stopwords.words('english')\n",
    "stopwords_en = set(stopwords_en).union(set(punctuation))\n",
    "\n",
    "my_custom_stopwords = {'’', \"n't\", \"'m\", \"'s\", \"'ve\", '...', 'ca', \"''\", '``', '\\u200d', 'im', 'na', \"'ll\", '..', 'u', \"'re\", \"'d\", '--', '”', '“', '\\u200f\\u200f\\u200e', '....', 'ㅤ','\\u200e\\u200f\\u200f\\u200e', 'x200b', 'ive', '.-', '\\u200e', '‘'}\n",
    "\n",
    "stopwords_en = stopwords_en.union(my_custom_stopwords)\n",
    "\n",
    "\n",
    "def preprocessing_function(text):\n",
    "    words = []\n",
    "\n",
    "    for word, tag in pos_tag(word_tokenize(nfx.clean_text(text))):\n",
    "        word_lemmatized = wnl.lemmatize(word.lower(), pos=penn2morphy(tag))\n",
    "\n",
    "        if '\\u200b' in word_lemmatized:\n",
    "            continue\n",
    "\n",
    "        if word_lemmatized not in stopwords_en and not word_lemmatized.isdigit() and not emoji.purely_emoji(word_lemmatized):\n",
    "            words.append(word_lemmatized)\n",
    "\n",
    "    return words"
   ]
  },
  {
   "cell_type": "markdown",
   "metadata": {},
   "source": [
    "# Carga modelo entrenado SUICIDIO"
   ]
  },
  {
   "cell_type": "code",
   "execution_count": 6,
   "metadata": {},
   "outputs": [
    {
     "name": "stdout",
     "output_type": "stream",
     "text": [
      "<class 'sklearn.linear_model._logistic.LogisticRegression'>\n",
      "<class 'sklearn.feature_extraction.text.CountVectorizer'>\n"
     ]
    }
   ],
   "source": [
    "# MODIFICAR ESTOS PARAMETROS PARA LA CARGA\n",
    "# --------------------------------------------------------\n",
    "nombre_modelo_prev_entrenado = Modelos.LOGISTIC_REGRESSION.value\n",
    "# usar formato '25k' para 25.000 filas ejemplo\n",
    "cant_prev_entrenada = '50k'\n",
    "\n",
    "path_base_modelo_generado = '/content/' if is_running_on_colab() else ('../tentativa_suicidio/entrenados/' if platform.system() == 'Linux' else '..\\\\tentativa_suicidio\\\\entrenados\\\\')\n",
    "path_modelo_generado = path_base_modelo_generado + nombre_modelo_prev_entrenado + '_' + cant_prev_entrenada\n",
    "# --------------------------------------------------------\n",
    "\n",
    "suicide_model = joblib.load(path_modelo_generado + '_model.pkl')\n",
    "suicide_vect = joblib.load(path_modelo_generado + '_vector.pkl')\n",
    "\n",
    "print(type(suicide_model))\n",
    "print(type(suicide_vect))"
   ]
  },
  {
   "cell_type": "markdown",
   "metadata": {},
   "source": [
    "# Carga modelo entrenado VIOLENCIA"
   ]
  },
  {
   "cell_type": "code",
   "execution_count": 7,
   "metadata": {},
   "outputs": [
    {
     "name": "stdout",
     "output_type": "stream",
     "text": [
      "<class 'sklearn.linear_model._logistic.LogisticRegression'>\n",
      "<class 'sklearn.feature_extraction.text.CountVectorizer'>\n"
     ]
    }
   ],
   "source": [
    "# MODIFICAR ESTOS PARAMETROS PARA LA CARGA\n",
    "# --------------------------------------------------------\n",
    "nombre_modelo_prev_entrenado = Modelos.LOGISTIC_REGRESSION.value\n",
    "# usar formato '25k' para 25.000 filas ejemplo\n",
    "cant_prev_entrenada = '50k'\n",
    "\n",
    "path_base_modelo_generado = '/content/' if is_running_on_colab() else ('../violencia/entrenados/' if platform.system() == 'Linux' else '..\\\\violencia\\\\entrenados\\\\')\n",
    "path_modelo_generado = path_base_modelo_generado + nombre_modelo_prev_entrenado + '_' + cant_prev_entrenada\n",
    "# --------------------------------------------------------\n",
    "\n",
    "violence_model = joblib.load(path_modelo_generado + '_model.pkl')\n",
    "violence_vect = joblib.load(path_modelo_generado + '_vector.pkl')\n",
    "\n",
    "print(type(violence_model))\n",
    "print(type(violence_vect))"
   ]
  },
  {
   "cell_type": "markdown",
   "metadata": {},
   "source": [
    "# Funcion predict SUICIDIO"
   ]
  },
  {
   "cell_type": "code",
   "execution_count": 8,
   "metadata": {},
   "outputs": [],
   "source": [
    "# translator = Translator()\n",
    "\n",
    "def get_tentativa_suicidio(text_input, english_text=False):\n",
    "    texto_a_analizar = text_input #if english_text else translator.translate(text_input, dest='en').text\n",
    "        \n",
    "    texto_preprocesado = ' '.join(preprocessing_function(texto_a_analizar))\n",
    "    texto_vectorizado = suicide_vect.transform([texto_preprocesado])\n",
    "\n",
    "    return bool(suicide_model.predict(texto_vectorizado)[0])"
   ]
  },
  {
   "cell_type": "markdown",
   "metadata": {},
   "source": [
    "# Funcion predict VIOLENCIA"
   ]
  },
  {
   "cell_type": "code",
   "execution_count": 9,
   "metadata": {},
   "outputs": [],
   "source": [
    "# translator = Translator()\n",
    "\n",
    "def get_texto_con_violencia(text_input, english_text=False):\n",
    "    texto_a_analizar = text_input #if english_text else translator.translate(text_input, dest='en').text\n",
    "        \n",
    "    texto_preprocesado = ' '.join(preprocessing_function(texto_a_analizar))\n",
    "    texto_vectorizado = violence_vect.transform([texto_preprocesado])\n",
    "\n",
    "    return bool(violence_model.predict(texto_vectorizado)[0])"
   ]
  },
  {
   "cell_type": "markdown",
   "metadata": {},
   "source": [
    "# Funcion obtener texto de url"
   ]
  },
  {
   "cell_type": "code",
   "execution_count": 10,
   "metadata": {},
   "outputs": [],
   "source": [
    "from selenium import webdriver\n",
    "from selenium.webdriver.common.by import By\n",
    "import time\n",
    "import re\n",
    "\n",
    "def get_texto(url):\n",
    "    options = webdriver.FirefoxOptions()\n",
    "    options.add_argument('--headless')\n",
    "    driver = webdriver.Firefox(options=options)\n",
    "    driver.get(url)\n",
    "\n",
    "    texto = \"\"\n",
    "    hay_read_more = False\n",
    "    time.sleep(1)\n",
    "\n",
    "    try:\n",
    "        buttons = driver.find_elements(By.XPATH, \"//button[contains(@id, '-read-more-button')]\") \n",
    "        for button in buttons:\n",
    "            if re.search(r\"-read-more-button$\", button.get_attribute(\"id\")):\n",
    "                if button.is_displayed():\n",
    "                    hay_read_more = True\n",
    "                    button.click()\n",
    "                    break\n",
    "        if(hay_read_more):\n",
    "            button_id = button.get_attribute(\"id\")\n",
    "            div_id_pattern = re.sub(r\"-read-more-button$\", \"-post-rtjson-content\", button_id)\n",
    "            texto_element = driver.find_element(By.XPATH, f\"//div[contains(@id, '{div_id_pattern}')]\")\n",
    "        else:\n",
    "            parent_div = driver.find_element(By.XPATH, \"//div[@class='text-neutral-content']\")\n",
    "            texto_element = parent_div.find_element(By.XPATH, \".//div[contains(@id, '-post-rtjson-content')]\")\n",
    "            \n",
    "        texto = texto_element.text\n",
    "    finally:\n",
    "        driver.close()\n",
    "\n",
    "\n",
    "    return texto"
   ]
  },
  {
   "cell_type": "markdown",
   "metadata": {},
   "source": [
    "# API"
   ]
  },
  {
   "cell_type": "code",
   "execution_count": 11,
   "metadata": {},
   "outputs": [
    {
     "name": "stdout",
     "output_type": "stream",
     "text": [
      " * Serving Flask app '__main__'\n",
      " * Debug mode: off\n"
     ]
    },
    {
     "name": "stderr",
     "output_type": "stream",
     "text": [
      "WARNING: This is a development server. Do not use it in a production deployment. Use a production WSGI server instead.\n",
      " * Running on http://127.0.0.1:5000\n",
      "Press CTRL+C to quit\n",
      "127.0.0.1 - - [19/May/2024 22:56:21] \"OPTIONS /text_prediction HTTP/1.1\" 200 -\n"
     ]
    },
    {
     "name": "stdout",
     "output_type": "stream",
     "text": [
      "Texto recibido: 'i want to die'\n"
     ]
    },
    {
     "name": "stderr",
     "output_type": "stream",
     "text": [
      "127.0.0.1 - - [19/May/2024 22:56:22] \"POST /text_prediction HTTP/1.1\" 200 -\n"
     ]
    },
    {
     "name": "stdout",
     "output_type": "stream",
     "text": [
      "Resultado: '{'prediction_suicidio': True, 'prediction_violencia': False}'\n"
     ]
    },
    {
     "name": "stderr",
     "output_type": "stream",
     "text": [
      "127.0.0.1 - - [19/May/2024 22:56:22] \"OPTIONS /url_prediction HTTP/1.1\" 200 -\n"
     ]
    },
    {
     "name": "stdout",
     "output_type": "stream",
     "text": [
      "URL Recibida: 'https://www.reddit.com/r/SuicideWatch/comments/1cpk5kr/nothing_left/'\n"
     ]
    },
    {
     "name": "stderr",
     "output_type": "stream",
     "text": [
      "127.0.0.1 - - [19/May/2024 22:56:23] \"POST /text_prediction HTTP/1.1\" 200 -\n"
     ]
    },
    {
     "name": "stdout",
     "output_type": "stream",
     "text": [
      "Texto recibido: 'I feel like I’m already dead in the sense of my soul and spirit, but I’m stuck in a physical existence. The last part of the process is to die physically now. It seems less scary when I think of it as this way. Almost sort of like pruning a plant.\n",
      "  \n",
      "    I lived in an abusive marriage for 10 years. Got married at 21 years old to a 30 year old that I had been with since 19. The abuse began while we were dating, I just genuinely believed it’d get better. It only got worse. Looking back, I can’t believe I allowed it to go on for so long. I’ll never recover from it.\n",
      "  \n",
      "    I’m now 31 with 2 kids. About a year and a half ago, I told him I was done. We’ve been separated since. He won’t agree to a divorce but I can’t afford to lawyer up. I’m a PhD student so I barely make a livable wage as it is.\n",
      "  \n",
      "    I feel so trapped and so hollow. I have OCD so suicidal thoughts are nothing new to me. But this time it’s different. It’s the epiphany that I’m already dead anyways. I just have to resolve the remaining physical existence.\n",
      "  \n",
      "    I’m sitting at the top of a parking garage at my university.\n",
      "  \n",
      "    Will I do it in 5 minutes? 5 days? It’s hard to say when I feel so detached.\n",
      "  \n",
      "    Everyone will say I died the day that I jumped, but really I died a long time ago.\n",
      "  \n",
      "    I feel so at peace knowing that this body is just a shell and there’s nothing left.'\n",
      "Resultado: '{'prediction_suicidio': True, 'prediction_violencia': False}'\n"
     ]
    }
   ],
   "source": [
    "from flask_cors import CORS\n",
    "\n",
    "app = Flask(__name__)\n",
    "\n",
    "CORS(app)\n",
    "\n",
    "@app.route(\"/\")\n",
    "def home():\n",
    "    return \"<p>API para predecir tentativas de suicidio en textos.</p>\"\n",
    "\n",
    "@app.route('/test', methods=['GET'])\n",
    "def test():\n",
    "    return jsonify({\"message\": \"Funciona\"})\n",
    "\n",
    "\n",
    "@app.route('/text_prediction', methods=['GET'])\n",
    "def procesar_texto_get():\n",
    "    texto = request.args.get('text')\n",
    "    if texto:\n",
    "        print(f\"Texto recibido: '{texto}'\")\n",
    "        texto = texto.strip()\n",
    "        if(texto.isspace() or texto == \"\"):\n",
    "            return jsonify({\"error\": \"No se pudo procesar el texto ya que esta vacío\"})\n",
    "        \n",
    "        prediction_suicidio = get_tentativa_suicidio(texto)\n",
    "        prediction_violencia = get_texto_con_violencia(texto)\n",
    "\n",
    "        result = {\"prediction_suicidio\": prediction_suicidio, \"prediction_violencia\": prediction_violencia}\n",
    "\n",
    "        print(f\"Resultado: '{result}'\")\n",
    "        return jsonify(result)\n",
    "    else:\n",
    "        return jsonify({\"error\": \"No se proporció un texto en la solicitud\"})\n",
    "    \n",
    "@app.route(\"/text_prediction\", methods=[\"POST\"])\n",
    "def procesar_texto_post():\n",
    "    data = request.json\n",
    "    texto = data.get(\"texto\")\n",
    "    if texto:\n",
    "        print(f\"Texto recibido: '{texto}'\")\n",
    "        texto = texto.strip()\n",
    "        if(texto.isspace() or texto == \"\"):\n",
    "            return jsonify({\"error\": \"No se pudo procesar el texto ya que esta vacío\"})\n",
    "        \n",
    "        prediction_suicidio = get_tentativa_suicidio(texto)\n",
    "        prediction_violencia = get_texto_con_violencia(texto)\n",
    "\n",
    "        result = {\"prediction_suicidio\": prediction_suicidio, \"prediction_violencia\": prediction_violencia}\n",
    "\n",
    "        print(f\"Resultado: '{result}'\")\n",
    "        return jsonify(result)\n",
    "    else:\n",
    "        return jsonify({\"error\": \"No se proporcionó un texto en la solicitud\"})\n",
    "    \n",
    "@app.route(\"/url_prediction\", methods=[\"POST\"])\n",
    "def procesar_url_post():\n",
    "    data = request.json\n",
    "    url = data.get(\"url\")\n",
    "    if url:\n",
    "        print(f\"URL Recibida: '{url}'\")\n",
    "        texto = get_texto(url)\n",
    "        print(f\"Texto obtenido: '{texto}'\")\n",
    "        \n",
    "        prediction_suicidio = get_tentativa_suicidio(texto)\n",
    "        prediction_violencia = get_texto_con_violencia(texto)\n",
    "\n",
    "        result = {\"prediction_suicidio\": prediction_suicidio, \"prediction_violencia\": prediction_violencia}\n",
    "\n",
    "        print(f\"Resultado: '{result}'\")\n",
    "        return jsonify(result)\n",
    "    else:\n",
    "        return jsonify({\"error\": \"No se proporcionó la URL en la solicitud\"})\n",
    "\n",
    "if __name__ == '__main__':\n",
    "    app.run()"
   ]
  }
 ],
 "metadata": {
  "kernelspec": {
   "display_name": "Python 3",
   "language": "python",
   "name": "python3"
  },
  "language_info": {
   "codemirror_mode": {
    "name": "ipython",
    "version": 3
   },
   "file_extension": ".py",
   "mimetype": "text/x-python",
   "name": "python",
   "nbconvert_exporter": "python",
   "pygments_lexer": "ipython3",
   "version": "3.12.3"
  }
 },
 "nbformat": 4,
 "nbformat_minor": 2
}
